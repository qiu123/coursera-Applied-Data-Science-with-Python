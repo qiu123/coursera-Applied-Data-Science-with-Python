{
 "cells": [
  {
   "cell_type": "markdown",
   "metadata": {},
   "source": [
    "# Assignment 2\n",
    "\n",
    "Before working on this assignment please read these instructions fully. In the submission area, you will notice that you can click the link to **Preview the Grading** for each step of the assignment. This is the criteria that will be used for peer grading. Please familiarize yourself with the criteria before beginning the assignment.\n",
    "\n",
    "An NOAA dataset has been stored in the file `data/C2A2_data/BinnedCsvs_d100/4e86d2106d0566c6ad9843d882e72791333b08be3d647dcae4f4b110.csv`. The data for this assignment comes from a subset of The National Centers for Environmental Information (NCEI) [Daily Global Historical Climatology Network](https://www1.ncdc.noaa.gov/pub/data/ghcn/daily/readme.txt) (GHCN-Daily). The GHCN-Daily is comprised of daily climate records from thousands of land surface stations across the globe.\n",
    "\n",
    "Each row in the assignment datafile corresponds to a single observation.\n",
    "\n",
    "The following variables are provided to you:\n",
    "\n",
    "* **id** : station identification code\n",
    "* **date** : date in YYYY-MM-DD format (e.g. 2012-01-24 = January 24, 2012)\n",
    "* **element** : indicator of element type\n",
    "    * TMAX : Maximum temperature (tenths of degrees C)\n",
    "    * TMIN : Minimum temperature (tenths of degrees C)\n",
    "* **value** : data value for element (tenths of degrees C)\n",
    "\n",
    "For this assignment, you must:\n",
    "\n",
    "1. Read the documentation and familiarize yourself with the dataset, then write some python code which returns a line graph of the record high and record low temperatures by day of the year over the period 2005-2014. The area between the record high and record low temperatures for each day should be shaded.\n",
    "2. Overlay a scatter of the 2015 data for any points (highs and lows) for which the ten year record (2005-2014) record high or record low was broken in 2015.\n",
    "3. Watch out for leap days (i.e. February 29th), it is reasonable to remove these points from the dataset for the purpose of this visualization.\n",
    "4. Make the visual nice! Leverage principles from the first module in this course when developing your solution. Consider issues such as legends, labels, and chart junk.\n",
    "\n",
    "The data you have been given is near **None, None, Singapore**, and the stations the data comes from are shown on the map below."
   ]
  },
  {
   "cell_type": "code",
   "execution_count": 1,
   "metadata": {
    "collapsed": false
   },
   "outputs": [
    {
     "data": {
      "text/html": [
       "<iframe src=\"data:text/html;base64,PGhlYWQ+CiAgICA8c2NyaXB0IHNyYz0iaHR0cHM6Ly9jZG5qcy5jbG91ZGZsYXJlLmNvbS9hamF4L2xpYnMvbGVhZmxldC8wLjcuMy9sZWFmbGV0LmpzIj48L3NjcmlwdD4KICAgIDxsaW5rIHJlbD0ic3R5bGVzaGVldCIgaHJlZj0iaHR0cHM6Ly9jZG5qcy5jbG91ZGZsYXJlLmNvbS9hamF4L2xpYnMvbGVhZmxldC8wLjcuMy9sZWFmbGV0LmNzcyIgLz4KICA8c3R5bGU+CiAgICAjbWFwMDA2YzViYTQyNzVjNDRmOGJjYTMwYWM4YTkzNjc2ODggewogICAgICBoZWlnaHQ6MTAwJTsKICAgIH0KICA8L3N0eWxlPiAKPC9oZWFkPgo8Ym9keT4KICA8ZGl2IGlkPSJtYXAwMDZjNWJhNDI3NWM0NGY4YmNhMzBhYzhhOTM2NzY4OCI+PC9kaXY+CjxzY3JpcHQgdGV4dD0idGV4dC9qYXZhc2NyaXB0Ij4KdmFyIG1hcCA9IEwubWFwKCdtYXAwMDZjNWJhNDI3NWM0NGY4YmNhMzBhYzhhOTM2NzY4OCcpOwpMLnRpbGVMYXllcigKICAiaHR0cDovL3tzfS50aWxlLm9wZW5zdHJlZXRtYXAub3JnL3t6fS97eH0ve3l9LnBuZyIsCiAge21heFpvb206MTksIGF0dHJpYnV0aW9uOiAnPGEgaHJlZj0iaHR0cHM6Ly9naXRodWIuY29tL2p3YXNzL21wbGxlYWZsZXQiPm1wbGxlYWZsZXQ8L2E+IHwgTWFwIGRhdGEgKGMpIDxhIGhyZWY9Imh0dHA6Ly9vcGVuc3RyZWV0bWFwLm9yZyI+T3BlblN0cmVldE1hcDwvYT4gY29udHJpYnV0b3JzJ30pLmFkZFRvKG1hcCk7CnZhciBnakRhdGEgPSB7ImZlYXR1cmVzIjogW3sicHJvcGVydGllcyI6IHsiYW5jaG9yX3giOiA5LjAsICJodG1sIjogIjxzdmcgd2lkdGg9XCIxOHB4XCIgaGVpZ2h0PVwiMThweFwiIHZpZXdCb3g9XCItOS4wIC05LjAgMTguMCAxOC4wXCIgeG1sbnM9XCJodHRwOi8vd3d3LnczLm9yZy8yMDAwL3N2Z1wiIHZlcnNpb249XCIxLjFcIj4gIDxwYXRoIGQ9XCJNIDAuMCA3LjA3MTA2NzgxMTg3IEMgMS44NzUyNjkxMDQwMiA3LjA3MTA2NzgxMTg3IDMuNjczOTg0NSA2LjMyNjAxNTUgNS4wIDUuMCBDIDYuMzI2MDE1NSAzLjY3Mzk4NDUgNy4wNzEwNjc4MTE4NyAxLjg3NTI2OTEwNDAyIDcuMDcxMDY3ODExODcgLTAuMCBDIDcuMDcxMDY3ODExODcgLTEuODc1MjY5MTA0MDIgNi4zMjYwMTU1IC0zLjY3Mzk4NDUgNS4wIC01LjAgQyAzLjY3Mzk4NDUgLTYuMzI2MDE1NSAxLjg3NTI2OTEwNDAyIC03LjA3MTA2NzgxMTg3IDAuMCAtNy4wNzEwNjc4MTE4NyBDIC0xLjg3NTI2OTEwNDAyIC03LjA3MTA2NzgxMTg3IC0zLjY3Mzk4NDUgLTYuMzI2MDE1NSAtNS4wIC01LjAgQyAtNi4zMjYwMTU1IC0zLjY3Mzk4NDUgLTcuMDcxMDY3ODExODcgLTEuODc1MjY5MTA0MDIgLTcuMDcxMDY3ODExODcgLTAuMCBDIC03LjA3MTA2NzgxMTg3IDEuODc1MjY5MTA0MDIgLTYuMzI2MDE1NSAzLjY3Mzk4NDUgLTUuMCA1LjAgQyAtMy42NzM5ODQ1IDYuMzI2MDE1NSAtMS44NzUyNjkxMDQwMiA3LjA3MTA2NzgxMTg3IDAuMCA3LjA3MTA2NzgxMTg3IFpcIiBzdHJva2U9XCIjRkYwMDAwXCIgZmlsbD1cIiNGRjAwMDBcIiBzdHJva2Utb3BhY2l0eT1cIjAuN1wiIHN0cm9rZS13aWR0aD1cIjEuMFwiIGZpbGwtb3BhY2l0eT1cIjAuN1wiIC8+PC9zdmc+IiwgImFuY2hvcl95IjogOS4wfSwgImdlb21ldHJ5IjogeyJjb29yZGluYXRlcyI6IFsxMDQuMTE3LCAxLjExN10sICJ0eXBlIjogIlBvaW50In0sICJ0eXBlIjogIkZlYXR1cmUifSwgeyJwcm9wZXJ0aWVzIjogeyJhbmNob3JfeCI6IDkuMCwgImh0bWwiOiAiPHN2ZyB3aWR0aD1cIjE4cHhcIiBoZWlnaHQ9XCIxOHB4XCIgdmlld0JveD1cIi05LjAgLTkuMCAxOC4wIDE4LjBcIiB4bWxucz1cImh0dHA6Ly93d3cudzMub3JnLzIwMDAvc3ZnXCIgdmVyc2lvbj1cIjEuMVwiPiAgPHBhdGggZD1cIk0gMC4wIDcuMDcxMDY3ODExODcgQyAxLjg3NTI2OTEwNDAyIDcuMDcxMDY3ODExODcgMy42NzM5ODQ1IDYuMzI2MDE1NSA1LjAgNS4wIEMgNi4zMjYwMTU1IDMuNjczOTg0NSA3LjA3MTA2NzgxMTg3IDEuODc1MjY5MTA0MDIgNy4wNzEwNjc4MTE4NyAtMC4wIEMgNy4wNzEwNjc4MTE4NyAtMS44NzUyNjkxMDQwMiA2LjMyNjAxNTUgLTMuNjczOTg0NSA1LjAgLTUuMCBDIDMuNjczOTg0NSAtNi4zMjYwMTU1IDEuODc1MjY5MTA0MDIgLTcuMDcxMDY3ODExODcgMC4wIC03LjA3MTA2NzgxMTg3IEMgLTEuODc1MjY5MTA0MDIgLTcuMDcxMDY3ODExODcgLTMuNjczOTg0NSAtNi4zMjYwMTU1IC01LjAgLTUuMCBDIC02LjMyNjAxNTUgLTMuNjczOTg0NSAtNy4wNzEwNjc4MTE4NyAtMS44NzUyNjkxMDQwMiAtNy4wNzEwNjc4MTE4NyAtMC4wIEMgLTcuMDcxMDY3ODExODcgMS44NzUyNjkxMDQwMiAtNi4zMjYwMTU1IDMuNjczOTg0NSAtNS4wIDUuMCBDIC0zLjY3Mzk4NDUgNi4zMjYwMTU1IC0xLjg3NTI2OTEwNDAyIDcuMDcxMDY3ODExODcgMC4wIDcuMDcxMDY3ODExODcgWlwiIHN0cm9rZT1cIiNGRjAwMDBcIiBmaWxsPVwiI0ZGMDAwMFwiIHN0cm9rZS1vcGFjaXR5PVwiMC43XCIgc3Ryb2tlLXdpZHRoPVwiMS4wXCIgZmlsbC1vcGFjaXR5PVwiMC43XCIgLz48L3N2Zz4iLCAiYW5jaG9yX3kiOiA5LjB9LCAiZ2VvbWV0cnkiOiB7ImNvb3JkaW5hdGVzIjogWzEwNC41MzIsIDAuOTIzXSwgInR5cGUiOiAiUG9pbnQifSwgInR5cGUiOiAiRmVhdHVyZSJ9LCB7InByb3BlcnRpZXMiOiB7ImFuY2hvcl94IjogOS4wLCAiaHRtbCI6ICI8c3ZnIHdpZHRoPVwiMThweFwiIGhlaWdodD1cIjE4cHhcIiB2aWV3Qm94PVwiLTkuMCAtOS4wIDE4LjAgMTguMFwiIHhtbG5zPVwiaHR0cDovL3d3dy53My5vcmcvMjAwMC9zdmdcIiB2ZXJzaW9uPVwiMS4xXCI+ICA8cGF0aCBkPVwiTSAwLjAgNy4wNzEwNjc4MTE4NyBDIDEuODc1MjY5MTA0MDIgNy4wNzEwNjc4MTE4NyAzLjY3Mzk4NDUgNi4zMjYwMTU1IDUuMCA1LjAgQyA2LjMyNjAxNTUgMy42NzM5ODQ1IDcuMDcxMDY3ODExODcgMS44NzUyNjkxMDQwMiA3LjA3MTA2NzgxMTg3IC0wLjAgQyA3LjA3MTA2NzgxMTg3IC0xLjg3NTI2OTEwNDAyIDYuMzI2MDE1NSAtMy42NzM5ODQ1IDUuMCAtNS4wIEMgMy42NzM5ODQ1IC02LjMyNjAxNTUgMS44NzUyNjkxMDQwMiAtNy4wNzEwNjc4MTE4NyAwLjAgLTcuMDcxMDY3ODExODcgQyAtMS44NzUyNjkxMDQwMiAtNy4wNzEwNjc4MTE4NyAtMy42NzM5ODQ1IC02LjMyNjAxNTUgLTUuMCAtNS4wIEMgLTYuMzI2MDE1NSAtMy42NzM5ODQ1IC03LjA3MTA2NzgxMTg3IC0xLjg3NTI2OTEwNDAyIC03LjA3MTA2NzgxMTg3IC0wLjAgQyAtNy4wNzEwNjc4MTE4NyAxLjg3NTI2OTEwNDAyIC02LjMyNjAxNTUgMy42NzM5ODQ1IC01LjAgNS4wIEMgLTMuNjczOTg0NSA2LjMyNjAxNTUgLTEuODc1MjY5MTA0MDIgNy4wNzEwNjc4MTE4NyAwLjAgNy4wNzEwNjc4MTE4NyBaXCIgc3Ryb2tlPVwiI0ZGMDAwMFwiIGZpbGw9XCIjRkYwMDAwXCIgc3Ryb2tlLW9wYWNpdHk9XCIwLjdcIiBzdHJva2Utd2lkdGg9XCIxLjBcIiBmaWxsLW9wYWNpdHk9XCIwLjdcIiAvPjwvc3ZnPiIsICJhbmNob3JfeSI6IDkuMH0sICJnZW9tZXRyeSI6IHsiY29vcmRpbmF0ZXMiOiBbMTA0LjU3OSwgLTAuNDc5XSwgInR5cGUiOiAiUG9pbnQifSwgInR5cGUiOiAiRmVhdHVyZSJ9LCB7InByb3BlcnRpZXMiOiB7ImFuY2hvcl94IjogOS4wLCAiaHRtbCI6ICI8c3ZnIHdpZHRoPVwiMThweFwiIGhlaWdodD1cIjE4cHhcIiB2aWV3Qm94PVwiLTkuMCAtOS4wIDE4LjAgMTguMFwiIHhtbG5zPVwiaHR0cDovL3d3dy53My5vcmcvMjAwMC9zdmdcIiB2ZXJzaW9uPVwiMS4xXCI+ICA8cGF0aCBkPVwiTSAwLjAgNy4wNzEwNjc4MTE4NyBDIDEuODc1MjY5MTA0MDIgNy4wNzEwNjc4MTE4NyAzLjY3Mzk4NDUgNi4zMjYwMTU1IDUuMCA1LjAgQyA2LjMyNjAxNTUgMy42NzM5ODQ1IDcuMDcxMDY3ODExODcgMS44NzUyNjkxMDQwMiA3LjA3MTA2NzgxMTg3IC0wLjAgQyA3LjA3MTA2NzgxMTg3IC0xLjg3NTI2OTEwNDAyIDYuMzI2MDE1NSAtMy42NzM5ODQ1IDUuMCAtNS4wIEMgMy42NzM5ODQ1IC02LjMyNjAxNTUgMS44NzUyNjkxMDQwMiAtNy4wNzEwNjc4MTE4NyAwLjAgLTcuMDcxMDY3ODExODcgQyAtMS44NzUyNjkxMDQwMiAtNy4wNzEwNjc4MTE4NyAtMy42NzM5ODQ1IC02LjMyNjAxNTUgLTUuMCAtNS4wIEMgLTYuMzI2MDE1NSAtMy42NzM5ODQ1IC03LjA3MTA2NzgxMTg3IC0xLjg3NTI2OTEwNDAyIC03LjA3MTA2NzgxMTg3IC0wLjAgQyAtNy4wNzEwNjc4MTE4NyAxLjg3NTI2OTEwNDAyIC02LjMyNjAxNTUgMy42NzM5ODQ1IC01LjAgNS4wIEMgLTMuNjczOTg0NSA2LjMyNjAxNTUgLTEuODc1MjY5MTA0MDIgNy4wNzEwNjc4MTE4NyAwLjAgNy4wNzEwNjc4MTE4NyBaXCIgc3Ryb2tlPVwiI0ZGMDAwMFwiIGZpbGw9XCIjRkYwMDAwXCIgc3Ryb2tlLW9wYWNpdHk9XCIwLjdcIiBzdHJva2Utd2lkdGg9XCIxLjBcIiBmaWxsLW9wYWNpdHk9XCIwLjdcIiAvPjwvc3ZnPiIsICJhbmNob3JfeSI6IDkuMH0sICJnZW9tZXRyeSI6IHsiY29vcmRpbmF0ZXMiOiBbMTAzLjk5NCwgMS4zNV0sICJ0eXBlIjogIlBvaW50In0sICJ0eXBlIjogIkZlYXR1cmUifV0sICJ0eXBlIjogIkZlYXR1cmVDb2xsZWN0aW9uIn07CgppZiAoZ2pEYXRhLmZlYXR1cmVzLmxlbmd0aCAhPSAwKSB7CiAgdmFyIGdqID0gTC5nZW9Kc29uKGdqRGF0YSwgewogICAgc3R5bGU6IGZ1bmN0aW9uIChmZWF0dXJlKSB7CiAgICAgIHJldHVybiBmZWF0dXJlLnByb3BlcnRpZXM7CiAgICB9LAogICAgcG9pbnRUb0xheWVyOiBmdW5jdGlvbiAoZmVhdHVyZSwgbGF0bG5nKSB7CiAgICAgIHZhciBpY29uID0gTC5kaXZJY29uKHsnaHRtbCc6IGZlYXR1cmUucHJvcGVydGllcy5odG1sLCAKICAgICAgICBpY29uQW5jaG9yOiBbZmVhdHVyZS5wcm9wZXJ0aWVzLmFuY2hvcl94LCAKICAgICAgICAgICAgICAgICAgICAgZmVhdHVyZS5wcm9wZXJ0aWVzLmFuY2hvcl95XSwgCiAgICAgICAgICBjbGFzc05hbWU6ICdlbXB0eSd9KTsgIC8vIFdoYXQgY2FuIEkgZG8gYWJvdXQgZW1wdHk/CiAgICAgIHJldHVybiBMLm1hcmtlcihsYXRsbmcsIHtpY29uOiBpY29ufSk7CiAgICB9CiAgfSk7CiAgZ2ouYWRkVG8obWFwKTsKICAKICBtYXAuZml0Qm91bmRzKGdqLmdldEJvdW5kcygpKTsKfSBlbHNlIHsKICBtYXAuc2V0VmlldyhbMCwgMF0sIDEpOwp9Cjwvc2NyaXB0Pgo8L2JvZHk+\" width=\"100%\" height=\"480\"></iframe>"
      ],
      "text/plain": [
       "<IPython.core.display.HTML object>"
      ]
     },
     "execution_count": 1,
     "metadata": {},
     "output_type": "execute_result"
    }
   ],
   "source": [
    "import matplotlib.pyplot as plt\n",
    "import mplleaflet\n",
    "import pandas as pd\n",
    "\n",
    "def leaflet_plot_stations(binsize, hashid):\n",
    "\n",
    "    df = pd.read_csv('data/C2A2_data/BinSize_d{}.csv'.format(binsize))\n",
    "\n",
    "    station_locations_by_hash = df[df['hash'] == hashid]\n",
    "\n",
    "    lons = station_locations_by_hash['LONGITUDE'].tolist()\n",
    "    lats = station_locations_by_hash['LATITUDE'].tolist()\n",
    "\n",
    "    plt.figure(figsize=(8,8))\n",
    "\n",
    "    plt.scatter(lons, lats, c='r', alpha=0.7, s=200)\n",
    "\n",
    "    return mplleaflet.display()\n",
    "\n",
    "leaflet_plot_stations(100,'4e86d2106d0566c6ad9843d882e72791333b08be3d647dcae4f4b110')"
   ]
  },
  {
   "cell_type": "code",
   "execution_count": 2,
   "metadata": {
    "collapsed": true
   },
   "outputs": [],
   "source": [
    "df = pd.read_csv('data/C2A2_data/BinnedCsvs_d100/4e86d2106d0566c6ad9843d882e72791333b08be3d647dcae4f4b110.csv')"
   ]
  },
  {
   "cell_type": "code",
   "execution_count": 3,
   "metadata": {
    "collapsed": false
   },
   "outputs": [
    {
     "name": "stderr",
     "output_type": "stream",
     "text": [
      "/opt/conda/lib/python3.5/site-packages/ipykernel/__main__.py:1: FutureWarning: sort(columns=....) is deprecated, use sort_values(by=.....)\n",
      "  if __name__ == '__main__':\n"
     ]
    },
    {
     "data": {
      "text/html": [
       "<div>\n",
       "<table border=\"1\" class=\"dataframe\">\n",
       "  <thead>\n",
       "    <tr style=\"text-align: right;\">\n",
       "      <th></th>\n",
       "      <th>ID</th>\n",
       "      <th>Date</th>\n",
       "      <th>Element</th>\n",
       "      <th>Data_Value</th>\n",
       "    </tr>\n",
       "  </thead>\n",
       "  <tbody>\n",
       "    <tr>\n",
       "      <th>22398</th>\n",
       "      <td>IDM00096087</td>\n",
       "      <td>2005-01-01</td>\n",
       "      <td>TMAX</td>\n",
       "      <td>274</td>\n",
       "    </tr>\n",
       "    <tr>\n",
       "      <th>22586</th>\n",
       "      <td>IDM00096087</td>\n",
       "      <td>2005-01-01</td>\n",
       "      <td>TMIN</td>\n",
       "      <td>240</td>\n",
       "    </tr>\n",
       "    <tr>\n",
       "      <th>21790</th>\n",
       "      <td>IDM00096087</td>\n",
       "      <td>2005-01-02</td>\n",
       "      <td>TMAX</td>\n",
       "      <td>256</td>\n",
       "    </tr>\n",
       "    <tr>\n",
       "      <th>21791</th>\n",
       "      <td>IDM00096087</td>\n",
       "      <td>2005-01-02</td>\n",
       "      <td>TMIN</td>\n",
       "      <td>224</td>\n",
       "    </tr>\n",
       "    <tr>\n",
       "      <th>14727</th>\n",
       "      <td>IDM00096087</td>\n",
       "      <td>2005-01-03</td>\n",
       "      <td>TMAX</td>\n",
       "      <td>283</td>\n",
       "    </tr>\n",
       "  </tbody>\n",
       "</table>\n",
       "</div>"
      ],
      "text/plain": [
       "                ID        Date Element  Data_Value\n",
       "22398  IDM00096087  2005-01-01    TMAX         274\n",
       "22586  IDM00096087  2005-01-01    TMIN         240\n",
       "21790  IDM00096087  2005-01-02    TMAX         256\n",
       "21791  IDM00096087  2005-01-02    TMIN         224\n",
       "14727  IDM00096087  2005-01-03    TMAX         283"
      ]
     },
     "execution_count": 3,
     "metadata": {},
     "output_type": "execute_result"
    }
   ],
   "source": [
    "df.sort(['ID','Date']).head()"
   ]
  },
  {
   "cell_type": "code",
   "execution_count": 4,
   "metadata": {
    "collapsed": true
   },
   "outputs": [],
   "source": [
    "df['Year'], df['Month-Date'] = zip(*df['Date'].apply(lambda x: (x[:4], x[5:])))\n",
    "df = df[df['Month-Date'] != '02-29']"
   ]
  },
  {
   "cell_type": "code",
   "execution_count": 5,
   "metadata": {
    "collapsed": false
   },
   "outputs": [],
   "source": [
    "import numpy as np\n",
    "temp_min = df[(df['Element'] == 'TMIN') & (df['Year'] != '2015')].groupby('Month-Date').aggregate({'Data_Value':np.min})\n",
    "temp_max = df[(df['Element'] == 'TMAX') & (df['Year'] != '2015')].groupby('Month-Date').aggregate({'Data_Value':np.max})"
   ]
  },
  {
   "cell_type": "code",
   "execution_count": 6,
   "metadata": {
    "collapsed": false
   },
   "outputs": [
    {
     "data": {
      "text/html": [
       "<div>\n",
       "<table border=\"1\" class=\"dataframe\">\n",
       "  <thead>\n",
       "    <tr style=\"text-align: right;\">\n",
       "      <th></th>\n",
       "      <th>Data_Value</th>\n",
       "    </tr>\n",
       "    <tr>\n",
       "      <th>Month-Date</th>\n",
       "      <th></th>\n",
       "    </tr>\n",
       "  </thead>\n",
       "  <tbody>\n",
       "    <tr>\n",
       "      <th>01-01</th>\n",
       "      <td>190</td>\n",
       "    </tr>\n",
       "    <tr>\n",
       "      <th>01-02</th>\n",
       "      <td>196</td>\n",
       "    </tr>\n",
       "    <tr>\n",
       "      <th>01-03</th>\n",
       "      <td>210</td>\n",
       "    </tr>\n",
       "    <tr>\n",
       "      <th>01-04</th>\n",
       "      <td>186</td>\n",
       "    </tr>\n",
       "    <tr>\n",
       "      <th>01-05</th>\n",
       "      <td>202</td>\n",
       "    </tr>\n",
       "  </tbody>\n",
       "</table>\n",
       "</div>"
      ],
      "text/plain": [
       "            Data_Value\n",
       "Month-Date            \n",
       "01-01              190\n",
       "01-02              196\n",
       "01-03              210\n",
       "01-04              186\n",
       "01-05              202"
      ]
     },
     "execution_count": 6,
     "metadata": {},
     "output_type": "execute_result"
    }
   ],
   "source": [
    "temp_min.head()"
   ]
  },
  {
   "cell_type": "code",
   "execution_count": 7,
   "metadata": {
    "collapsed": true
   },
   "outputs": [],
   "source": [
    "temp_min_15 = df[(df['Element'] == 'TMIN') & (df['Year'] == '2015')].groupby('Month-Date').aggregate({'Data_Value':np.min})\n",
    "temp_max_15 = df[(df['Element'] == 'TMAX') & (df['Year'] == '2015')].groupby('Month-Date').aggregate({'Data_Value':np.max})"
   ]
  },
  {
   "cell_type": "code",
   "execution_count": 8,
   "metadata": {
    "collapsed": true
   },
   "outputs": [],
   "source": [
    "broken_min = np.where(temp_min_15['Data_Value'] < temp_min['Data_Value'])[0]\n",
    "broken_max = np.where(temp_max_15['Data_Value'] > temp_max['Data_Value'])[0]"
   ]
  },
  {
   "cell_type": "code",
   "execution_count": 9,
   "metadata": {
    "collapsed": false
   },
   "outputs": [
    {
     "data": {
      "text/plain": [
       "(array([  9,  12,  14,  18,  57,  91, 106, 107, 109, 111, 113, 133, 138,\n",
       "        149, 151, 155, 176, 179, 180, 182, 188, 189, 191, 192, 196, 198,\n",
       "        199, 200, 203, 204, 205, 206, 210, 211, 229, 237, 238, 244, 245,\n",
       "        247, 248, 250, 251, 252, 262, 266, 268, 270, 274, 275, 284, 286,\n",
       "        290, 291, 292, 294, 298, 317, 318, 322, 323, 326, 333, 338, 343,\n",
       "        352, 353, 354, 355, 356, 358, 360, 361]), array([], dtype=int64))"
      ]
     },
     "execution_count": 9,
     "metadata": {},
     "output_type": "execute_result"
    }
   ],
   "source": [
    "broken_max, broken_min"
   ]
  },
  {
   "cell_type": "code",
   "execution_count": 10,
   "metadata": {
    "collapsed": false
   },
   "outputs": [
    {
     "data": {
      "text/html": [
       "<div>\n",
       "<table border=\"1\" class=\"dataframe\">\n",
       "  <thead>\n",
       "    <tr style=\"text-align: right;\">\n",
       "      <th></th>\n",
       "      <th>Data_Value</th>\n",
       "    </tr>\n",
       "    <tr>\n",
       "      <th>Month-Date</th>\n",
       "      <th></th>\n",
       "    </tr>\n",
       "  </thead>\n",
       "  <tbody>\n",
       "    <tr>\n",
       "      <th>01-01</th>\n",
       "      <td>214</td>\n",
       "    </tr>\n",
       "    <tr>\n",
       "      <th>01-02</th>\n",
       "      <td>245</td>\n",
       "    </tr>\n",
       "    <tr>\n",
       "      <th>01-03</th>\n",
       "      <td>240</td>\n",
       "    </tr>\n",
       "    <tr>\n",
       "      <th>01-04</th>\n",
       "      <td>236</td>\n",
       "    </tr>\n",
       "    <tr>\n",
       "      <th>01-05</th>\n",
       "      <td>237</td>\n",
       "    </tr>\n",
       "  </tbody>\n",
       "</table>\n",
       "</div>"
      ],
      "text/plain": [
       "            Data_Value\n",
       "Month-Date            \n",
       "01-01              214\n",
       "01-02              245\n",
       "01-03              240\n",
       "01-04              236\n",
       "01-05              237"
      ]
     },
     "execution_count": 10,
     "metadata": {},
     "output_type": "execute_result"
    }
   ],
   "source": [
    "temp_min_15.head()"
   ]
  },
  {
   "cell_type": "code",
   "execution_count": 11,
   "metadata": {
    "collapsed": false
   },
   "outputs": [
    {
     "data": {
      "image/png": "[encoded data removed]",
      "text/plain": [
       "<matplotlib.figure.Figure at 0x7ff2549bda20>"
      ]
     },
     "metadata": {},
     "output_type": "display_data"
    }
   ],
   "source": [
    "plt.figure()\n",
    "plt.plot(temp_min.values, 'b', label = 'record low')\n",
    "plt.plot(temp_max.values, 'r', label = 'record high')\n",
    "plt.scatter(broken_min, temp_min_15.iloc[broken_min], s = 10, c = 'g', label = 'broken low')\n",
    "plt.scatter(broken_max, temp_max_15.iloc[broken_max], s = 10, c = 'm', label = 'broken high')\n",
    "plt.gca().axis([-5, 370, -150, 650])\n",
    "plt.xticks(range(0, len(temp_min), 20), temp_min.index[range(0, len(temp_min), 20)], rotation = '45')\n",
    "plt.xlabel('Day of the Year')\n",
    "plt.ylabel('Temperature (Tenths of Degrees C)')\n",
    "plt.title('Temperature Summary Plot near Singapore')\n",
    "plt.legend(loc = 4, frameon = False)\n",
    "plt.gca().fill_between(range(len(temp_min)), temp_min['Data_Value'], temp_max['Data_Value'], facecolor = 'yellow', alpha = 0.5)\n",
    "plt.gca().spines['top'].set_visible(False)\n",
    "plt.gca().spines['right'].set_visible(False)\n",
    "plt.show()"
   ]
  }
 ],
 "metadata": {
  "kernelspec": {
   "display_name": "Python 3",
   "language": "python",
   "name": "python3"
  },
  "language_info": {
   "codemirror_mode": {
    "name": "ipython",
    "version": 3
   },
   "file_extension": ".py",
   "mimetype": "text/x-python",
   "name": "python",
   "nbconvert_exporter": "python",
   "pygments_lexer": "ipython3",
   "version": "3.5.2"
  }
 },
 "nbformat": 4,
 "nbformat_minor": 1
}
